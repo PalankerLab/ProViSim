{
 "nbformat": 4,
 "nbformat_minor": 0,
 "metadata": {
  "colab": {
   "provenance": [
    {
     "file_id": "1rBjSTlw2Z5ggm5WEeeOfoYznwjk-1Lof",
     "timestamp": 1737843575198
    },
    {
     "file_id": "1QQIbpiUzRoxoH9lSfwKzKoC188M9ICXh",
     "timestamp": 1737429893459
    },
    {
     "file_id": "1yHmRJpWJ2HN46xlVDteOgBRpCHIc6Zhg",
     "timestamp": 1735710786414
    }
   ],
   "collapsed_sections": [
    "gbUkT5cfVGfg"
   ],
   "toc_visible": true,
   "authorship_tag": "ABX9TyMKwDf5onQL05Gu98qF0EAh"
  },
  "kernelspec": {
   "name": "python3",
   "language": "python",
   "display_name": "Python 3 (ipykernel)"
  },
  "language_info": {
   "name": "python"
  }
 },
 "cells": [
  {
   "cell_type": "markdown",
   "source": [
    "# Run Parameters\n",
    "### Edit this section to configure your run. \n",
    "You don't need to edit any of the other sections to run the simulation, unless you want to \n",
    "change the algorithm or the visualizations.\n",
    "#####\n",
    "image_path: The relative or absolute path to the image you would like to process. Please note it has to be square \n",
    "(height=width) (path: string)\n",
    "\n",
    "Resolution reduction parameters:\n",
    "\n",
    "cutoff_frequency: Max sampling frequency to simulate in cycles per image (number: integer)\n",
    "\n",
    "tukey_alpha: The tapering factor for the Tukey filter (number: float)\n",
    "\n",
    "tukey_radius_expansion_factor: Additional apodization factor for the tukey filter (number: float)\n",
    "\n",
    "Contrast reduction parameters:\n",
    "\n",
    "gamma_lst: A list of Gamma values to simulate the Gamma contrast reduction option (list)\n",
    "\n",
    "gain_lst: A list of Gain values to simulate the Sigmoid contrast reduction option (list)\n",
    "\n",
    "sigmoid_x_shift: The horizontal shift to simulate in the sigmoid contrast reduction (number: float)"
   ],
   "metadata": {
    "id": "6pPw0Cjh6TXG"
   }
  },
  {
   "metadata": {},
   "cell_type": "code",
   "source": [
    "image_path = \"sample_image.jpg\"\n",
    "\n",
    "# resolution reduction parameters\n",
    "cutoff_frequency = 10 \n",
    "tukey_alpha = 0.3 \n",
    "tukey_radius_expansion_factor = 0.3 \n",
    "\n",
    "# contrast reduction parameters\n",
    "gamma_lst = [1.7, 2.6, 3.5] \n",
    "gain_lst = [10, 20, 30] \n",
    "sigmoid_x_shift = 0.2 "
   ],
   "outputs": [],
   "execution_count": null
  },
  {
   "cell_type": "markdown",
   "source": [
    "# Imports"
   ],
   "metadata": {
    "id": "gbUkT5cfVGfg"
   }
  },
  {
   "cell_type": "code",
   "source": [
    "# standard imports\n",
    "import sys\n",
    "import shutil\n",
    "import cv2\n",
    "from PIL import Image\n",
    "import matplotlib.pyplot as plt\n",
    "from mpl_toolkits.axes_grid1 import make_axes_locatable\n",
    "from matplotlib.colors import LinearSegmentedColormap\n",
    "from matplotlib.patches import Rectangle\n",
    "\n",
    "# install mediapipe\n",
    "!pip install mediapipe > /dev/null 2>&1\n",
    "\n",
    "# mediapipe imports\n",
    "from mediapipe.framework.formats import landmark_pb2\n",
    "from mediapipe.tasks import python\n",
    "from mediapipe.tasks.python import vision\n",
    "from mediapipe.python.solutions.face_mesh_connections import FACEMESH_LEFT_IRIS, FACEMESH_RIGHT_IRIS\n",
    "\n",
    "# project imports\n",
    "from utils import *\n",
    "from image_processing import *\n",
    "from plot import *\n",
    "from facial_landmarking import *\n",
    "\n",
    "# download face landmarker task file\n",
    "if shutil.which(\"wget\") is None:  \n",
    "    print(\"wget not found. Installing...\")\n",
    "\n",
    "    if sys.platform.startswith(\"darwin\"):  \n",
    "        print(\"Detected macOS. Installing wget using Homebrew...\")\n",
    "        !brew install wget\n",
    "\n",
    "    elif sys.platform.startswith(\"win\"):  \n",
    "        print(\"Detected Windows. Installing wget using Chocolatey or Winget...\")\n",
    "        try:\n",
    "            !choco install wget -y  \n",
    "        except:\n",
    "            print(\"Chocolatey not found. Trying Winget...\")\n",
    "            !winget install --id GnuWin32.Wget  \n",
    "\n",
    "    elif sys.platform.startswith(\"linux\"):  \n",
    "        print(\"Detected Linux. Installing wget using package manager...\")\n",
    "        try:\n",
    "            !sudo apt update && sudo apt install -y wget  \n",
    "        except:\n",
    "            print(\"APT not found. Trying Yum...\")\n",
    "            !sudo yum install -y wget  \n",
    "\n",
    "    else:\n",
    "        print(\"Unsupported OS. Please install wget manually.\")\n",
    "\n",
    "!wget -O face_landmarker_v2_with_blendshapes.task -q https://storage.googleapis.com/mediapipe-models/face_landmarker/face_landmarker/float16/1/face_landmarker.task\n"
   ],
   "metadata": {
    "collapsed": false
   },
   "outputs": [],
   "execution_count": null
  },
  {
   "cell_type": "markdown",
   "source": [
    "\n",
    "# Simulate prosthetic vision"
   ],
   "metadata": {
    "id": "pwt4cA5lHfyC"
   }
  },
  {
   "cell_type": "markdown",
   "source": [
    "## Simulate loss of spatial resolution "
   ],
   "metadata": {
    "id": "vb79ux9Ywnix"
   }
  },
  {
   "cell_type": "markdown",
   "source": [
    "### Load in an image, convert to grayscale and create a tukey window"
   ],
   "metadata": {
    "id": "ZDAiw0-PwO5i"
   }
  },
  {
   "cell_type": "code",
   "source": [
    "gray_img = rgb_to_gray(image_path)\n",
    "img_size = gray_img.shape[0]\n",
    "tukey_win = create_tukey_window(cutoff_frequency, img_size)"
   ],
   "metadata": {
    "id": "TTH-sHuI6I3k",
    "cellView": "form",
    "executionInfo": {
     "status": "ok",
     "timestamp": 1737866010807,
     "user_tz": 480,
     "elapsed": 145
    }
   },
   "outputs": [],
   "execution_count": null
  },
  {
   "cell_type": "markdown",
   "source": [
    "### Plot tukey window in 1D"
   ],
   "metadata": {
    "id": "SKZWNQax--LJ"
   }
  },
  {
   "cell_type": "code",
   "source": [
    "fig=plt.figure(figsize=(7,3))\n",
    "\n",
    "midcoord = img_size // 2 - 1\n",
    "\n",
    "# Plot the filter\n",
    "plt.plot(tukey_win[midcoord, midcoord - (2 * cutoff_frequency) : midcoord + (2 * cutoff_frequency) + 1], c='black')\n",
    "\n",
    "# Add horizontal and vertical reference lines\n",
    "plt.axvline(x=2 * cutoff_frequency, color='r', linestyle='--', linewidth=0.5)\n",
    "plt.axvline(x=cutoff_frequency, color='r', linestyle='--', linewidth=0.5)\n",
    "plt.axvline(x=3 * cutoff_frequency, color='r', linestyle='--', linewidth=0.5)\n",
    "plt.axvline(x=2 * cutoff_frequency + cutoff_frequency*(tukey_alpha + 1), color='r', linestyle='--', linewidth=0.5)\n",
    "plt.axvline(x=2 * cutoff_frequency - cutoff_frequency*(tukey_alpha + 1), color='r', linestyle='--', linewidth=0.5)\n",
    "\n",
    "# Set x-ticks at each integer\n",
    "plt.xticks(range(0, 4 * cutoff_frequency + 1))\n",
    "\n",
    "# Get current x-tick positions and set labels every 5th tick\n",
    "current_ticks = plt.gca().get_xticks()  # Get current x-tick positions (e.g., from 0 to 40)\n",
    "new_labels = [tick - 2 * cutoff_frequency if tick % 5 == 0 else \"\" for tick in current_ticks]  # Label every 5th tick, others are empty\n",
    "\n",
    "# Apply the new labels and maintain the tick positions\n",
    "plt.xticks(current_ticks, new_labels)\n",
    "plt.xlabel('Cycles per image')\n",
    "plt.ylabel('Amplitude')\n",
    "plt.ylim([0.0, 1.05])\n",
    "\n",
    "# Limit the plot range to show the desired x-axis range\n",
    "plt.xlim([0, 4 * cutoff_frequency])\n",
    "\n",
    "plt.show()"
   ],
   "metadata": {
    "colab": {
     "base_uri": "https://localhost:8080/",
     "height": 311
    },
    "id": "rVFm7ZG47ZrH",
    "executionInfo": {
     "status": "ok",
     "timestamp": 1737866011595,
     "user_tz": 480,
     "elapsed": 691
    },
    "outputId": "79a4b0a6-389f-46d1-a0d4-24ed6442f7e4",
    "cellView": "form"
   },
   "outputs": [],
   "execution_count": null
  },
  {
   "cell_type": "markdown",
   "source": [
    "### Plot input image in the frequency domain"
   ],
   "metadata": {
    "id": "Gjua5kiW_qQl"
   }
  },
  {
   "cell_type": "code",
   "source": [
    "magnitude_spectrum_log = fft_plot(gray_img)\n",
    "\n",
    "freq_y = np.fft.fftshift(np.fft.fftfreq(img_size)) * img_size # Frequency axis for rows\n",
    "freq_x = np.fft.fftshift(np.fft.fftfreq(img_size)) * img_size # Frequency axis for columns\n",
    "\n",
    "plt.figure(figsize=(3, 3))\n",
    "plt.imshow(magnitude_spectrum_log, extent=[freq_x[0], freq_x[-1], freq_y[0], freq_y[-1]], cmap='gray')\n",
    "plt.xlabel(\"Cycles per image\")\n",
    "plt.ylabel(\"Cycles per image\")\n",
    "plt.show()"
   ],
   "metadata": {
    "colab": {
     "base_uri": "https://localhost:8080/",
     "height": 311
    },
    "id": "Iu2ty1Mv8EbU",
    "executionInfo": {
     "status": "ok",
     "timestamp": 1737866011595,
     "user_tz": 480,
     "elapsed": 9
    },
    "outputId": "c0f6f602-2ca0-4b7e-845d-febffa4cabb4",
    "cellView": "form"
   },
   "outputs": [],
   "execution_count": null
  },
  {
   "cell_type": "markdown",
   "source": [
    "### Plot the custom filter in 2D (zoomed in)"
   ],
   "metadata": {
    "id": "SGPMbNOMAMWj"
   }
  },
  {
   "cell_type": "code",
   "source": [
    "zoom_into_cycles_num = 20\n",
    "plt.figure(figsize=(3, 3))\n",
    "ax = plt.gca()\n",
    "\n",
    "# Plot the image\n",
    "im = ax.imshow(tukey_win, extent=[freq_x[0], freq_x[-1], freq_y[0], freq_y[-1]])\n",
    "plt.xlim([-zoom_into_cycles_num, zoom_into_cycles_num])\n",
    "plt.ylim([-zoom_into_cycles_num, zoom_into_cycles_num])\n",
    "plt.xlabel(\"Cycles per image\")\n",
    "plt.ylabel(\"Cycles per image\")\n",
    "yticks = np.linspace(-zoom_into_cycles_num, zoom_into_cycles_num, 5)\n",
    "plt.yticks(yticks)\n",
    "\n",
    "# Create a colorbar that matches the height of the image\n",
    "divider = make_axes_locatable(ax)\n",
    "cax = divider.append_axes(\"right\", size=\"5%\", pad=0.05)\n",
    "cbar = plt.colorbar(im, cax=cax)\n",
    "cbar.set_label(\"Amplitude\")\n",
    "\n",
    "plt.show()"
   ],
   "metadata": {
    "colab": {
     "base_uri": "https://localhost:8080/",
     "height": 302
    },
    "id": "aefiehCUBwAM",
    "executionInfo": {
     "status": "ok",
     "timestamp": 1737866011762,
     "user_tz": 480,
     "elapsed": 171
    },
    "outputId": "a410390f-0aa7-4153-dafc-dbe8bca42b21",
    "cellView": "form"
   },
   "outputs": [],
   "execution_count": null
  },
  {
   "cell_type": "markdown",
   "source": [
    "## Simulate loss of contrast"
   ],
   "metadata": {
    "id": "OzTLRQ_KwvGX"
   }
  },
  {
   "cell_type": "markdown",
   "source": [
    "### Draw tone curve functions for gamma and sigmoid transforms"
   ],
   "metadata": {
    "id": "jEqc8wIxChT9"
   }
  },
  {
   "cell_type": "markdown",
   "source": [
    "####Gamma Transform"
   ],
   "metadata": {
    "id": "ZkyjTOSoELF8"
   }
  },
  {
   "cell_type": "code",
   "source": [
    "# Generate x values between 0 and 1\n",
    "x = np.linspace(0, 1, 100)\n",
    "linear_y = linear_function(x)\n",
    "colors = plt.cm.Reds(np.linspace(0.4, 1, len(gamma_lst)))  # 0.4 to 1 for darker shades\n",
    "\n",
    "# Plot the function\n",
    "fig, ax = plt.subplots(figsize=(5, 5))\n",
    "plt.plot(x, linear_y, linestyle=':', linewidth=1)\n",
    "for gamma, color in zip(gamma_lst, colors):\n",
    "    plt.plot(x, [gamma_transform(x_val, gamma) for x_val in x],\n",
    "             linestyle='-', linewidth=2, label=fr\"$\\gamma = {gamma}$\", color=color)\n",
    "plt.xlim(0, 1)\n",
    "plt.ylim(0, 1)\n",
    "ax.set_xticks([])\n",
    "ax.set_yticks([])\n",
    "plt.legend()\n",
    "\n",
    "# Create grayscale colormap\n",
    "grayscale_cmap = LinearSegmentedColormap.from_list(\"grayscale\", [\"black\", \"white\"])\n",
    "\n",
    "# X-axis color bar overlay\n",
    "cbar_ax_x = fig.add_axes([ax.get_position().x0, ax.get_position().y0 - 0.05,\n",
    "                          ax.get_position().width, 0.03])\n",
    "cbar_x = fig.colorbar(plt.cm.ScalarMappable(cmap=grayscale_cmap), cax=cbar_ax_x, orientation='horizontal')\n",
    "cbar_x.set_label(\"Input Grayscale\", labelpad=0)\n",
    "\n",
    "# Y-axis color bar overlay\n",
    "cbar_ax_y = fig.add_axes([ax.get_position().x0 - 0.05, ax.get_position().y0,\n",
    "                          0.03, ax.get_position().height])\n",
    "cbar_y = fig.colorbar(plt.cm.ScalarMappable(cmap=grayscale_cmap), cax=cbar_ax_y, orientation='vertical')\n",
    "cbar_y.set_label(\"Output Grayscale\", labelpad=0)\n",
    "cbar_y.ax.yaxis.set_ticks_position('left')  # Position ticks on the left\n",
    "cbar_y.ax.yaxis.set_label_position('left')  # Position label on the left\n",
    "\n",
    "plt.show()\n"
   ],
   "metadata": {
    "colab": {
     "base_uri": "https://localhost:8080/",
     "height": 490
    },
    "id": "c4-Y77EvVvRE",
    "executionInfo": {
     "status": "ok",
     "timestamp": 1737866012506,
     "user_tz": 480,
     "elapsed": 753
    },
    "outputId": "523001c5-4990-482c-adf1-a87809407b39",
    "cellView": "form"
   },
   "outputs": [],
   "execution_count": null
  },
  {
   "cell_type": "markdown",
   "source": [
    "#### Sigmoid Transform"
   ],
   "metadata": {
    "id": "_iFsN30CEAkD"
   }
  },
  {
   "cell_type": "code",
   "source": [
    "# Generate x values between 0 and 1\n",
    "x = np.linspace(0, 1, 100)\n",
    "linear_y = linear_function(x)\n",
    "\n",
    "# Create a colormap\n",
    "colors = plt.cm.Blues(np.linspace(0.4, 1, len(gamma_lst)))\n",
    "\n",
    "# Plot the function\n",
    "fig, ax = plt.subplots(figsize=(5, 5))\n",
    "plt.plot(x, linear_y, linestyle=':', linewidth=1)\n",
    "for s, color in zip(gain_lst, colors):\n",
    "    plt.plot(x, [sigmoid_transform(x_val, s, sigmoid_x_shift) for x_val in x],\n",
    "             linestyle='-', linewidth=2, label=fr\"$\\mathrm{{g}} = {s}$\", color=color)\n",
    "plt.xlim(0, 1)\n",
    "plt.ylim(0, 1)\n",
    "ax.set_xticks([])\n",
    "ax.set_yticks([])\n",
    "plt.legend()\n",
    "\n",
    "# Create grayscale colormap\n",
    "grayscale_cmap = LinearSegmentedColormap.from_list(\"grayscale\", [\"black\", \"white\"])\n",
    "\n",
    "# X-axis color bar overlay\n",
    "cbar_ax_x = fig.add_axes([ax.get_position().x0, ax.get_position().y0 - 0.05,\n",
    "                          ax.get_position().width, 0.03])\n",
    "cbar_x = fig.colorbar(plt.cm.ScalarMappable(cmap=grayscale_cmap), cax=cbar_ax_x, orientation='horizontal')\n",
    "cbar_x.set_label(\"Input Grayscale\", labelpad=0)\n",
    "\n",
    "# Y-axis color bar overlay\n",
    "cbar_ax_y = fig.add_axes([ax.get_position().x0 - 0.05, ax.get_position().y0,\n",
    "                          0.03, ax.get_position().height])\n",
    "cbar_y = fig.colorbar(plt.cm.ScalarMappable(cmap=grayscale_cmap), cax=cbar_ax_y, orientation='vertical')\n",
    "cbar_y.set_label(\"Output Grayscale\", labelpad=0)\n",
    "cbar_y.ax.yaxis.set_ticks_position('left')\n",
    "cbar_y.ax.yaxis.set_label_position('left')\n",
    "\n",
    "plt.show()\n"
   ],
   "metadata": {
    "colab": {
     "base_uri": "https://localhost:8080/",
     "height": 490
    },
    "id": "RIhBAOyZUk3E",
    "executionInfo": {
     "status": "ok",
     "timestamp": 1737866012729,
     "user_tz": 480,
     "elapsed": 229
    },
    "outputId": "d05fd4ae-a089-4bd6-c2f6-c34339ea6773",
    "cellView": "form"
   },
   "outputs": [],
   "execution_count": null
  },
  {
   "cell_type": "markdown",
   "source": [
    "### Draw a gradient bar to visualize the effect of the transforms"
   ],
   "metadata": {
    "id": "XvRSnifpghdQ"
   }
  },
  {
   "cell_type": "code",
   "source": [
    "thickness = 20\n",
    "\n",
    "# Create a gradient array that goes from 0 (black) to 1 (white)\n",
    "gradient = np.linspace(0, 1, 256)  # 256 shades from black to white\n",
    "gradient = np.tile(gradient, (thickness, 1))  # Repeat the gradient as a bar\n",
    "\n",
    "gamma_transformed = [gamma_transform(each_grayscale, gamma_lst[-1]) for each_grayscale in gradient[0]]\n",
    "sigmoid_transformed = [sigmoid_transform(each_grayscale, gain_lst[-1], sigmoid_x_shift) for each_grayscale in gradient[0]]\n",
    "\n",
    "fig = plt.figure(figsize=(5, 2))\n",
    "\n",
    "# Add the first subplot (top)\n",
    "plt.subplot(2, 1, 1)  # 1 row, 2 columns, first subplot\n",
    "\n",
    "# Plot the sigmoid-transformed data on the first subplot\n",
    "plt.imshow(np.tile(sigmoid_transformed, (thickness, 1)), aspect='auto', cmap='gray')\n",
    "plt.axis('off')\n",
    "\n",
    "# Add a black border around the first subplot\n",
    "rect = Rectangle(\n",
    "    (0, 0),  # Starting point\n",
    "    1, 1,  # Width and height in relative coordinates\n",
    "    transform=plt.gca().transAxes,  # Use axes-relative coordinates\n",
    "    linewidth=2, edgecolor='black', facecolor='none'\n",
    ")\n",
    "plt.gca().add_patch(rect)\n",
    "\n",
    "# Set title for the first subplot\n",
    "plt.title(f'g = {gain_lst[-1]} transformed grayscale')#, fontsize=15, pad=10)\n",
    "\n",
    "# Add the second subplot (bottom)\n",
    "plt.subplot(2, 1, 2)  # 1 row, 2 columns, second subplot\n",
    "\n",
    "# Plot the gamma-transformed data on the second subplot\n",
    "plt.imshow(np.tile(gamma_transformed, (thickness, 1)), aspect='auto', cmap='gray')\n",
    "plt.axis('off')\n",
    "\n",
    "# Add a black border around the second subplot\n",
    "rect2 = Rectangle(\n",
    "    (0, 0),  # Starting point\n",
    "    1, 1,  # Width and height in relative coordinates\n",
    "    transform=plt.gca().transAxes,  # Use axes-relative coordinates\n",
    "    linewidth=2, edgecolor='black', facecolor='none'\n",
    ")\n",
    "plt.gca().add_patch(rect2)\n",
    "\n",
    "# Set title for the second subplot\n",
    "plt.title(f'$\\gamma =$ {gamma_lst[-1]} transformed grayscale') #, fontsize=15, pad=10)\n",
    "\n",
    "# Show the plot\n",
    "plt.tight_layout()  # Adjust layout to prevent overlap\n",
    "plt.show()"
   ],
   "metadata": {
    "id": "v7dyw6RPgg4T",
    "executionInfo": {
     "status": "ok",
     "timestamp": 1737866012878,
     "user_tz": 480,
     "elapsed": 156
    },
    "colab": {
     "base_uri": "https://localhost:8080/",
     "height": 207
    },
    "outputId": "98636f10-316c-43ae-9dc8-e3157e3dc435",
    "cellView": "form"
   },
   "outputs": [],
   "execution_count": null
  },
  {
   "cell_type": "markdown",
   "source": [
    "## Simulate a face"
   ],
   "metadata": {
    "id": "H9zrYRILYlbK"
   }
  },
  {
   "cell_type": "code",
   "source": [
    "face_img = rgb_to_gray(image_path)\n",
    "face_tukey_win = create_tukey_window(cutoff_frequency, gray_img.shape[0])\n",
    "spatially_filtered_face_img = fft_filter(face_img, face_tukey_win)"
   ],
   "metadata": {
    "id": "k9a9eWcLYr6C",
    "cellView": "form",
    "executionInfo": {
     "status": "ok",
     "timestamp": 1737866012878,
     "user_tz": 480,
     "elapsed": 7
    }
   },
   "outputs": [],
   "execution_count": null
  },
  {
   "cell_type": "code",
   "source": [
    "face_img_lst = [face_img, spatially_filtered_face_img]"
   ],
   "metadata": {
    "id": "M19Zi4_rYm9J",
    "cellView": "form",
    "executionInfo": {
     "status": "ok",
     "timestamp": 1737866012878,
     "user_tz": 480,
     "elapsed": 6
    }
   },
   "outputs": [],
   "execution_count": null
  },
  {
   "cell_type": "markdown",
   "source": [
    "Simulate a face using a Gamma transform"
   ],
   "metadata": {
    "id": "SpMEfuXPxzmC"
   }
  },
  {
   "cell_type": "code",
   "source": [
    "# create new figure\n",
    "i = 1\n",
    "plt.figure(figsize=(13, 7))\n",
    "plt.suptitle('Gamma Transform', fontsize=16)\n",
    "\n",
    "# Loop through images and transformations to plot\n",
    "for img in face_img_lst:\n",
    "    for gamma in gamma_lst:\n",
    "        ax = plt.subplot(len(face_img_lst), len(gamma_lst), i)\n",
    "        validate_gray_img(img)\n",
    "        transformed_float_img = gamma_transform(img, gamma)\n",
    "        ax.imshow(transformed_float_img, cmap='gray')\n",
    "        ax.axis('off')\n",
    "        plt.title('$\\gamma =$ ' + str(gamma))\n",
    "        i += 1"
   ],
   "metadata": {
    "colab": {
     "base_uri": "https://localhost:8080/",
     "height": 646
    },
    "executionInfo": {
     "status": "ok",
     "timestamp": 1737866013739,
     "user_tz": 480,
     "elapsed": 867
    },
    "outputId": "029da47f-787c-4d3b-a6b4-da4b5e5d96b0",
    "id": "WM9lODBKYm9O",
    "cellView": "form"
   },
   "outputs": [],
   "execution_count": null
  },
  {
   "cell_type": "markdown",
   "source": [
    "Simulate a face using a Sigmoid transform"
   ],
   "metadata": {
    "id": "bJUyJJWmx0eb"
   }
  },
  {
   "cell_type": "code",
   "source": [
    "# create new figure\n",
    "i = 1\n",
    "plt.figure(figsize=(13, 7))\n",
    "plt.suptitle('Sigmoid Transform', fontsize=16)\n",
    "\n",
    "# Loop through images and transformations to plot\n",
    "for img in face_img_lst:\n",
    "    for gain in gain_lst:\n",
    "        ax = plt.subplot(len(face_img_lst), len(gain_lst), i)\n",
    "        validate_gray_img(img)\n",
    "        transformed_float_img = sigmoid_transform(img, gain, sigmoid_x_shift)\n",
    "        ax.imshow(transformed_float_img, cmap='gray')\n",
    "        ax.axis('off')\n",
    "        plt.title('$g =$ ' + str(gain))\n",
    "        i += 1"
   ],
   "metadata": {
    "colab": {
     "base_uri": "https://localhost:8080/",
     "height": 646
    },
    "executionInfo": {
     "status": "ok",
     "timestamp": 1737866014499,
     "user_tz": 480,
     "elapsed": 779
    },
    "outputId": "ae0e49b3-f2e6-46b4-ced7-7d7c86f6f303",
    "id": "gj2at5MYYm9O",
    "cellView": "form"
   },
   "outputs": [],
   "execution_count": null
  },
  {
   "cell_type": "markdown",
   "source": [
    "## Simulate a Campbell-Robson Chart"
   ],
   "metadata": {
    "id": "UL-1Tr7p2_vB"
   }
  },
  {
   "cell_type": "code",
   "source": [
    "# create a CampbellRobsonChart object\n",
    "chart_generator = CampbellRobsonChart()\n",
    "\n",
    "# Draw a gray square CRC with min value 0 and max value 1\n",
    "gray_crc = chart_generator.chart_data\n",
    "\n",
    "# Create a new tukey window to fit the dimension of gray_crc\n",
    "crc_tukey_win = create_tukey_window(cutoff_frequency, gray_crc.shape[0])\n",
    "\n",
    "# Spatially filter the gray_crc\n",
    "spatially_filtered_crc = fft_filter(gray_crc, crc_tukey_win)"
   ],
   "metadata": {
    "id": "h1vEPkjQAudH",
    "cellView": "form",
    "executionInfo": {
     "status": "ok",
     "timestamp": 1737866017233,
     "user_tz": 480,
     "elapsed": 2742
    }
   },
   "outputs": [],
   "execution_count": null
  },
  {
   "cell_type": "code",
   "source": [
    "crc_img_lst = [gray_crc, spatially_filtered_crc]"
   ],
   "metadata": {
    "id": "AuS32tyyBoGj",
    "cellView": "form",
    "executionInfo": {
     "status": "ok",
     "timestamp": 1737866017237,
     "user_tz": 480,
     "elapsed": 74
    }
   },
   "outputs": [],
   "execution_count": null
  },
  {
   "cell_type": "markdown",
   "source": [
    "Simulate a Campbell-Robson Chart using a Gamma transform"
   ],
   "metadata": {
    "id": "OkJ7na-pxj4W"
   }
  },
  {
   "cell_type": "code",
   "source": [
    "# initialize variables\n",
    "i = 1\n",
    "axes_label = True\n",
    "ticks = chart_generator.ticks\n",
    "\n",
    "# create a new figure\n",
    "plt.figure(figsize=(13, 7))\n",
    "plt.suptitle('Gamma Transform', fontsize=16)\n",
    "\n",
    "# Loop through images and transformations\n",
    "for img in crc_img_lst:\n",
    "    for gamma in gamma_lst:\n",
    "        ax = plt.subplot(len(crc_img_lst), len(gamma_lst), i)\n",
    "        validate_gray_img(img)\n",
    "        transformed_float_img = gamma_transform(img, gamma)\n",
    "\n",
    "        ax.imshow(transformed_float_img, cmap='gray', origin='lower')\n",
    "\n",
    "        # Set x-ticks for frequency labels\n",
    "        ax.set_xticks(ticks['x_positions'])\n",
    "        ax.set_xticklabels(ticks['x_labels'])\n",
    "        if axes_label:\n",
    "          ax.set_xlabel('Spatial Frequency (cpd)')\n",
    "\n",
    "        # Set y-ticks for frequency labels\n",
    "        ax.set_yticks(ticks['y_positions'])\n",
    "        ax.set_yticklabels(ticks['y_labels'])\n",
    "        if axes_label:\n",
    "          ax.set_ylabel('Contrast')\n",
    "        i += 1"
   ],
   "metadata": {
    "colab": {
     "base_uri": "https://localhost:8080/",
     "height": 689
    },
    "id": "D7GSr-4SE4rs",
    "executionInfo": {
     "status": "ok",
     "timestamp": 1737866056796,
     "user_tz": 480,
     "elapsed": 39587
    },
    "outputId": "f8537db7-2b56-4768-f6e6-d151695d20da",
    "cellView": "form"
   },
   "outputs": [],
   "execution_count": null
  },
  {
   "cell_type": "code",
   "source": [
    "# To save out individual charts as own png instead of a panel\n",
    "save_out_individual_pngs = False\n",
    "if save_out_individual_pngs:\n",
    "  for img_index, img in enumerate(crc_img_lst, start=1):\n",
    "      # Save the original image\n",
    "      chart_generator.save_campbell_robson_chart_png(f'crc_{img_index}_original.png', data=img, axes_label=False)\n",
    "\n",
    "      # Save gamma-adjusted images\n",
    "      for gamma in gamma_lst:\n",
    "          validate_gray_img(img)\n",
    "          transformed_float_img = gamma_transform(img, gamma)\n",
    "          chart_generator.save_campbell_robson_chart_png(f'crc_{img_index}_gamma_{gamma}.png', data=transformed_float_img, axes_label=False)"
   ],
   "metadata": {
    "id": "MJxoNtnx2_h8",
    "executionInfo": {
     "status": "ok",
     "timestamp": 1737866056796,
     "user_tz": 480,
     "elapsed": 54
    },
    "cellView": "form"
   },
   "outputs": [],
   "execution_count": null
  },
  {
   "cell_type": "markdown",
   "source": [
    "Simulate a Campbell-Robson Chart using a Sigmoid transform\n"
   ],
   "metadata": {
    "id": "qdB7JrfCEawQ"
   }
  },
  {
   "cell_type": "code",
   "source": [
    "# initialize variables\n",
    "i = 1\n",
    "axes_label = True\n",
    "ticks = chart_generator.ticks\n",
    "\n",
    "# create a new figure\n",
    "plt.figure(figsize=(13, 7))\n",
    "plt.suptitle('Sigmoid Transform', fontsize=16)\n",
    "\n",
    "# Loop through images and transformations\n",
    "for img in crc_img_lst:\n",
    "    for gain in gain_lst:\n",
    "        ax = plt.subplot(len(crc_img_lst), len(gain_lst), i)\n",
    "        validate_gray_img(img)\n",
    "        transformed_float_img = sigmoid_transform(img, gain, sigmoid_x_shift)\n",
    "\n",
    "        ax.imshow(transformed_float_img, cmap='gray', origin='lower')\n",
    "\n",
    "        # Set x-ticks for frequency labels\n",
    "        ax.set_xticks(ticks['x_positions'])\n",
    "        ax.set_xticklabels(ticks['x_labels'])\n",
    "        if axes_label:\n",
    "          ax.set_xlabel('Spatial Frequency (cpd)')\n",
    "\n",
    "        # Set y-ticks for frequency labels\n",
    "        ax.set_yticks(ticks['y_positions'])\n",
    "        ax.set_yticklabels(ticks['y_labels'])\n",
    "        if axes_label:\n",
    "          ax.set_ylabel('Contrast')\n",
    "        i += 1"
   ],
   "metadata": {
    "colab": {
     "base_uri": "https://localhost:8080/",
     "height": 689
    },
    "id": "fiz9vdgyG2jz",
    "executionInfo": {
     "status": "ok",
     "timestamp": 1737866094497,
     "user_tz": 480,
     "elapsed": 37743
    },
    "outputId": "63a236cb-7fc2-4f52-a30c-2a3eac759e7a",
    "cellView": "form"
   },
   "outputs": [],
   "execution_count": null
  },
  {
   "cell_type": "code",
   "source": [
    "# To save out individual charts as own png instead of a panel\n",
    "save_out_individual_pngs = False\n",
    "if save_out_individual_pngs:\n",
    "  for img_index, img in enumerate(crc_img_lst, start=1):\n",
    "      # Save the original image\n",
    "      chart_generator.save_campbell_robson_chart_png(f'crc_{img_index}_original.png', data=img, axes_label=False)\n",
    "\n",
    "      # Save sigmoid-adjusted images\n",
    "      for gain in gain_lst:\n",
    "          validate_gray_img(img)\n",
    "          transformed_float_img = sigmoid_transform(img, gain, sigmoid_x_shift)\n",
    "          chart_generator.save_campbell_robson_chart_png(f'crc_{img_index}_sigmoid_{gain}.png', data=transformed_float_img, axes_label=False)"
   ],
   "metadata": {
    "id": "M7FdZq7nEdd8",
    "cellView": "form",
    "executionInfo": {
     "status": "ok",
     "timestamp": 1737866094498,
     "user_tz": 480,
     "elapsed": 20
    }
   },
   "outputs": [],
   "execution_count": null
  },
  {
   "cell_type": "markdown",
   "source": [
    "\n",
    "\n",
    "## Simulate a Landolt C"
   ],
   "metadata": {
    "id": "Oiw0kL-u-xkV"
   }
  },
  {
   "cell_type": "code",
   "source": [
    "# draw a landolt C panel\n",
    "landolt_c_panel = draw_landolt_c_panel()\n",
    "\n",
    "# create a new tukey window to fit the dimension of landolt_c_panel\n",
    "landolt_c_panel_tukey_win = create_tukey_window(cutoff_frequency, landolt_c_panel.shape[0])\n",
    "\n",
    "# spatially filter the landolt_c_panel\n",
    "spatially_filtered_landolt_c_panel = fft_filter(landolt_c_panel, landolt_c_panel_tukey_win)"
   ],
   "metadata": {
    "id": "nTxPbeTJVEFq",
    "cellView": "form",
    "executionInfo": {
     "status": "ok",
     "timestamp": 1737866094499,
     "user_tz": 480,
     "elapsed": 14
    }
   },
   "outputs": [],
   "execution_count": null
  },
  {
   "cell_type": "code",
   "source": [
    "landolt_c_img_lst = [landolt_c_panel, spatially_filtered_landolt_c_panel]"
   ],
   "metadata": {
    "id": "NW-4sHURX3FR",
    "cellView": "form",
    "executionInfo": {
     "status": "ok",
     "timestamp": 1737866094499,
     "user_tz": 480,
     "elapsed": 13
    }
   },
   "outputs": [],
   "execution_count": null
  },
  {
   "cell_type": "markdown",
   "source": [
    "Simulate a Landolt C using a Gamma transform"
   ],
   "metadata": {
    "id": "VLvZqrCq57Xs"
   }
  },
  {
   "cell_type": "code",
   "source": [
    "# @title\n",
    "i = 1\n",
    "plt.figure(figsize=(13, 7))\n",
    "plt.suptitle('Gamma Transform')\n",
    "# Loop through images and transformations\n",
    "for img in landolt_c_img_lst:\n",
    "    for gamma in gamma_lst:\n",
    "        ax = plt.subplot(len(landolt_c_img_lst), len(gamma_lst), i)\n",
    "        validate_gray_img(img)\n",
    "        transformed_float_img = gamma_transform(img, gamma)\n",
    "        ax.imshow(transformed_float_img, cmap='gray')\n",
    "        ax.axis('off')\n",
    "        plt.title('$\\gamma =$ ' + str(gamma))\n",
    "        i += 1"
   ],
   "metadata": {
    "colab": {
     "base_uri": "https://localhost:8080/",
     "height": 646
    },
    "id": "0-nJPjo-YSoB",
    "executionInfo": {
     "status": "ok",
     "timestamp": 1737866095496,
     "user_tz": 480,
     "elapsed": 1009
    },
    "outputId": "237fa67f-c163-4c1a-f3cc-99b92060f715",
    "cellView": "form"
   },
   "outputs": [],
   "execution_count": null
  },
  {
   "cell_type": "markdown",
   "source": [
    "Simulate a Landolt C using a Sigmoid transform"
   ],
   "metadata": {
    "id": "kXJ0P94U58qE"
   }
  },
  {
   "cell_type": "code",
   "source": [
    "# create new figure\n",
    "i = 1\n",
    "plt.figure(figsize=(13, 7))\n",
    "plt.suptitle('Sigmoid Transform')\n",
    "\n",
    "# Loop through images and transformations\n",
    "for img in landolt_c_img_lst:\n",
    "    for gain in gain_lst:\n",
    "        ax = plt.subplot(len(landolt_c_img_lst), len(gain_lst), i)\n",
    "        validate_gray_img(img)\n",
    "        transformed_float_img = sigmoid_transform(img, gain, sigmoid_x_shift)\n",
    "        ax.imshow(transformed_float_img, cmap='gray')\n",
    "        ax.axis('off')\n",
    "        plt.title('$g =$ ' + str(gain))\n",
    "        i += 1"
   ],
   "metadata": {
    "colab": {
     "base_uri": "https://localhost:8080/",
     "height": 646
    },
    "id": "iyUgklx0XqmL",
    "executionInfo": {
     "status": "ok",
     "timestamp": 1737866096303,
     "user_tz": 480,
     "elapsed": 811
    },
    "outputId": "32267376-af16-4125-ae8d-e0ac788e721d",
    "cellView": "form"
   },
   "outputs": [],
   "execution_count": null
  },
  {
   "cell_type": "markdown",
   "source": [
    "# Improve prosthetic vision"
   ],
   "metadata": {
    "id": "2Z6g0a1tzLmg"
   }
  },
  {
   "cell_type": "markdown",
   "source": [
    "## Inverse tone curves"
   ],
   "metadata": {
    "id": "aTrJPDfrKc8z"
   }
  },
  {
   "cell_type": "code",
   "source": [
    "# load the image and run the resolution reduction part\n",
    "face_img = rgb_to_gray(image_path)\n",
    "face_tukey_win = create_tukey_window(cutoff_frequency, gray_img.shape[0])\n",
    "spatially_filtered_face_img = fft_filter(face_img, face_tukey_win)"
   ],
   "metadata": {
    "id": "V3VjAzPiaO1y",
    "cellView": "form",
    "executionInfo": {
     "status": "ok",
     "timestamp": 1737866155065,
     "user_tz": 480,
     "elapsed": 307
    }
   },
   "outputs": [],
   "execution_count": null
  },
  {
   "cell_type": "markdown",
   "source": [
    "### Inverse of Gamma (just 1/gamma)"
   ],
   "metadata": {
    "id": "MNBGEk8zabr-"
   }
  },
  {
   "cell_type": "code",
   "source": [
    "# contrast reduction with and without preemptive inverse Gamma transform\n",
    "plt.figure(figsize=(7,7))\n",
    "plt.subplot(2,2,1)\n",
    "plt.imshow(face_img, cmap='gray')\n",
    "plt.title('No inverse transform')\n",
    "plt.axis('off')\n",
    "\n",
    "plt.subplot(2,2,2)\n",
    "inv_gamma_face_img = gamma_transform(face_img, 1 / 3.5)\n",
    "plt.imshow(inv_gamma_face_img, cmap='gray')\n",
    "plt.title('Inverse transform')\n",
    "plt.axis('off')\n",
    "\n",
    "plt.subplot(2,2,3)\n",
    "plt.imshow(gamma_transform(spatially_filtered_face_img, 3.5), cmap='gray')\n",
    "plt.title('PV without inverse transform')\n",
    "plt.axis('off')\n",
    "\n",
    "plt.subplot(2,2,4)\n",
    "spatially_filtered_inverse_img = fft_filter(quantize_image(inv_gamma_face_img), face_tukey_win)\n",
    "plt.imshow(gamma_transform(spatially_filtered_inverse_img, 3.5), cmap='gray')\n",
    "plt.title('PV with inverse transform')\n",
    "plt.axis('off')"
   ],
   "metadata": {
    "colab": {
     "base_uri": "https://localhost:8080/",
     "height": 615
    },
    "id": "7AyU5JxsNmTo",
    "executionInfo": {
     "status": "ok",
     "timestamp": 1737866155575,
     "user_tz": 480,
     "elapsed": 519
    },
    "outputId": "e0f14c59-42a7-4062-b1c1-d71b66b78711",
    "cellView": "form"
   },
   "outputs": [],
   "execution_count": null
  },
  {
   "cell_type": "markdown",
   "source": [
    "Inverse of Sigmoid"
   ],
   "metadata": {
    "id": "fSlCFI6gcLLY"
   }
  },
  {
   "cell_type": "code",
   "source": [
    "# contrast reduction with and without preemptive inverse Gamma transform\n",
    "plt.figure(figsize=(7,7))\n",
    "plt.subplot(2,2,1)\n",
    "plt.imshow(face_img, cmap='gray')\n",
    "plt.title('No inverse transform')\n",
    "plt.axis('off')\n",
    "\n",
    "plt.subplot(2,2,2)\n",
    "inv_sigmoid_face_img = inverse_sigmoid(face_img, 30, 0.2)\n",
    "plt.imshow(inv_sigmoid_face_img, cmap='gray')\n",
    "plt.title('Inverse transform')\n",
    "plt.axis('off')\n",
    "\n",
    "plt.subplot(2,2,3)\n",
    "plt.imshow(sigmoid_transform(spatially_filtered_face_img, 30, 0.2), cmap='gray')\n",
    "plt.title('PV without inverse transform')\n",
    "plt.axis('off')\n",
    "\n",
    "plt.subplot(2,2,4)\n",
    "clipped_inv_sigmoid_face_img = np.clip(inv_sigmoid_face_img, 0, 1)\n",
    "spatially_filtered_inverse_img = fft_filter(quantize_image(clipped_inv_sigmoid_face_img), face_tukey_win)\n",
    "plt.imshow(sigmoid_transform(spatially_filtered_inverse_img, 30, 0.2), cmap='gray')\n",
    "plt.title('PV with inverse transform')\n",
    "plt.axis('off')"
   ],
   "metadata": {
    "colab": {
     "base_uri": "https://localhost:8080/",
     "height": 650
    },
    "executionInfo": {
     "status": "ok",
     "timestamp": 1737866156076,
     "user_tz": 480,
     "elapsed": 515
    },
    "outputId": "7a476068-b4ff-4f2d-e092-e28b1570acb1",
    "id": "AwlEoxr3cLLZ",
    "cellView": "form"
   },
   "outputs": [],
   "execution_count": null
  },
  {
   "cell_type": "markdown",
   "source": [
    "## Facial Landmarking"
   ],
   "metadata": {
    "id": "h1voP2_9mSLK"
   }
  },
  {
   "cell_type": "code",
   "source": [
    "# Create an FaceLandmarker object.\n",
    "base_options = python.BaseOptions(model_asset_path='face_landmarker_v2_with_blendshapes.task')\n",
    "options = vision.FaceLandmarkerOptions(base_options=base_options,\n",
    "                                       output_face_blendshapes=False,\n",
    "                                       output_facial_transformation_matrixes=False,\n",
    "                                       num_faces=1)\n",
    "detector = vision.FaceLandmarker.create_from_options(options)"
   ],
   "metadata": {
    "id": "B7oWCszkuipH",
    "cellView": "form",
    "executionInfo": {
     "status": "ok",
     "timestamp": 1737866156077,
     "user_tz": 480,
     "elapsed": 18
    }
   },
   "outputs": [],
   "execution_count": null
  },
  {
   "cell_type": "code",
   "source": [
    "# Load in image\n",
    "image = mp.Image.create_from_file(image_path)\n",
    "\n",
    "# Landmark detection\n",
    "detection_result = detector.detect(image)\n",
    "face_landmarks_list = detection_result.face_landmarks\n",
    "face_landmarks = face_landmarks_list[0]\n",
    "\n",
    "# Draw the detected landmarks\n",
    "face_landmarks_proto = landmark_pb2.NormalizedLandmarkList()\n",
    "face_landmarks_proto.landmark.extend([\n",
    "  landmark_pb2.NormalizedLandmark(x=landmark.x, y=landmark.y, z=landmark.z) for landmark in face_landmarks\n",
    "])\n",
    "landmark_list = face_landmarks_proto\n",
    "\n",
    "# Convert image to numpy and gray\n",
    "np_image = np.asarray(image.numpy_view())\n",
    "\n",
    "# Check input is RGB image.\n",
    "if np_image.shape[-1] not in (3,4):\n",
    "    raise ValueError (\"We expect an 3-channel RGB image for facial landmarking\")\n",
    "elif np_image.shape[-1] == 4:\n",
    "    np_image = np_image[..., :-1]\n",
    "\n",
    "face_image = np.copy(np_image)\n",
    "gray_face_img = np.array(Image.fromarray(face_image).convert('L'))\n",
    "image_rows, image_cols, _ = face_image.shape\n",
    "\n",
    "\n",
    "# Build dictionary corresponding index to coordinates on face_image\n",
    "idx_to_coordinates = {}\n",
    "for idx, landmark in enumerate(landmark_list.landmark):\n",
    "  landmark_px = normalized_to_pixel_coordinates(landmark.x, landmark.y, image_cols, image_rows)\n",
    "  idx_to_coordinates[idx] = landmark_px\n",
    "\n",
    "# Get image coordinates for eyebrows and irises\n",
    "midline_right_eyebrow = get_midline_eyebrows((FACEMESH_RIGHT_EYEBROW_BOTTOM, FACEMESH_RIGHT_EYEBROW_TOP), idx_to_coordinates)\n",
    "midline_left_eyebrow = get_midline_eyebrows((FACEMESH_LEFT_EYEBROW_BOTTOM, FACEMESH_LEFT_EYEBROW_TOP), idx_to_coordinates)\n",
    "center_left_iris = get_center_iris(FACEMESH_LEFT_IRIS, idx_to_coordinates)\n",
    "center_right_iris = get_center_iris(FACEMESH_RIGHT_IRIS, idx_to_coordinates)"
   ],
   "metadata": {
    "id": "1cOv8xcImTBY",
    "cellView": "form",
    "executionInfo": {
     "status": "ok",
     "timestamp": 1737866156264,
     "user_tz": 480,
     "elapsed": 199
    }
   },
   "outputs": [],
   "execution_count": null
  },
  {
   "cell_type": "markdown",
   "source": [
    "### Draw eyebrows, irises, and lips on the face image"
   ],
   "metadata": {
    "id": "Hdy_x0s5nABz"
   }
  },
  {
   "cell_type": "code",
   "source": [
    "# Compute the binary mask for lips\n",
    "lip_mask = create_lip_mask(face_image, LOWER_LIP_INDICES + UPPER_LIP_INDICES)\n",
    "\n",
    "# Compute the thickness for the lines that will draw the irises and eyebrows\n",
    "line_thickness = compute_line_thickness(face_image, cycles_per_img=cutoff_frequency)\n",
    "midline_eyebrows  = midline_right_eyebrow + midline_left_eyebrow\n",
    "\n",
    "# Draw eyebrows on face_image\n",
    "for start_coord, end_coord in midline_eyebrows:\n",
    "  cv2.line(face_image, start_coord, end_coord, color=(0,0,0), thickness=line_thickness)\n",
    "\n",
    "# Draw irises on face_image\n",
    "cv2.circle(face_image, center_left_iris, radius=line_thickness, color=(0,0,0), thickness=-1)\n",
    "cv2.circle(face_image, center_right_iris, radius=line_thickness, color=(0,0,0), thickness=-1)\n",
    "\n",
    "# Set the pixels to black where the mask is True\n",
    "face_image[np.all(lip_mask == 255, axis=-1)] = [0, 0, 0]"
   ],
   "metadata": {
    "id": "WtW9Rq0nnDN7",
    "cellView": "form",
    "executionInfo": {
     "status": "ok",
     "timestamp": 1737866156264,
     "user_tz": 480,
     "elapsed": 6
    }
   },
   "outputs": [],
   "execution_count": null
  },
  {
   "cell_type": "code",
   "source": [
    "plt.title('Thickened facial features overlaid')\n",
    "plt.imshow(face_image)\n",
    "plt.axis('off')"
   ],
   "metadata": {
    "colab": {
     "base_uri": "https://localhost:8080/",
     "height": 445
    },
    "id": "i_AnYAPdnGsO",
    "executionInfo": {
     "status": "ok",
     "timestamp": 1737866156561,
     "user_tz": 480,
     "elapsed": 302
    },
    "outputId": "f208920e-15cc-44bb-9c58-c0892dc00c5c",
    "cellView": "form"
   },
   "outputs": [],
   "execution_count": null
  },
  {
   "cell_type": "markdown",
   "source": [
    "### Simulate a Face after preemptive landmarking"
   ],
   "metadata": {
    "id": "BU10Ylyj2WyZ"
   }
  },
  {
   "cell_type": "code",
   "source": [
    "gray_facial_features_overlaid_img = rgb_to_gray(img=face_image)\n",
    "spatially_filtered_facial_features_overlaid_img = fft_filter(gray_facial_features_overlaid_img, face_tukey_win)\n",
    "face_landmarking_img_lst = [gray_facial_features_overlaid_img, spatially_filtered_facial_features_overlaid_img]"
   ],
   "metadata": {
    "id": "BtSFmlB9nnBW",
    "cellView": "form",
    "executionInfo": {
     "status": "ok",
     "timestamp": 1737866156561,
     "user_tz": 480,
     "elapsed": 4
    }
   },
   "outputs": [],
   "execution_count": null
  },
  {
   "cell_type": "markdown",
   "source": [
    "gamma transform"
   ],
   "metadata": {
    "id": "e4VI6ZDl2d12"
   }
  },
  {
   "cell_type": "code",
   "source": [
    "# @title\n",
    "i = 1\n",
    "plt.figure(figsize=(13, 7))\n",
    "plt.suptitle('Gamma Transform')\n",
    "# Loop through images and transformations\n",
    "for img in face_landmarking_img_lst:\n",
    "    for gamma in gamma_lst:\n",
    "        ax = plt.subplot(len(face_landmarking_img_lst), len(gamma_lst), i)\n",
    "        validate_gray_img(img)\n",
    "        transformed_float_img = gamma_transform(img, gamma)\n",
    "        ax.imshow(transformed_float_img, cmap='gray')\n",
    "        ax.axis('off')\n",
    "        plt.title('$\\gamma =$ ' + str(gamma))\n",
    "        i += 1"
   ],
   "metadata": {
    "colab": {
     "base_uri": "https://localhost:8080/",
     "height": 646
    },
    "id": "btiGl_N0nS4X",
    "executionInfo": {
     "status": "ok",
     "timestamp": 1737866157293,
     "user_tz": 480,
     "elapsed": 735
    },
    "outputId": "1446a04b-1847-409a-8116-f2892978810d",
    "cellView": "form"
   },
   "outputs": [],
   "execution_count": null
  },
  {
   "cell_type": "markdown",
   "source": [
    "sigmoid transform"
   ],
   "metadata": {
    "id": "VJm80kE92faV"
   }
  },
  {
   "cell_type": "code",
   "source": [
    "# @title\n",
    "i = 1\n",
    "plt.figure(figsize=(13, 7))\n",
    "plt.suptitle('Sigmoid Transform')\n",
    "# Loop through images and transformations\n",
    "for img in face_landmarking_img_lst:\n",
    "    for gain in gain_lst:\n",
    "        ax = plt.subplot(len(face_landmarking_img_lst), len(gain_lst), i)\n",
    "        validate_gray_img(img)\n",
    "        transformed_float_img = sigmoid_transform(img, gain, sigmoid_x_shift)\n",
    "        ax.imshow(transformed_float_img, cmap='gray')\n",
    "        ax.axis('off')\n",
    "        plt.title('$g =$ ' + str(gain))\n",
    "        i += 1"
   ],
   "metadata": {
    "colab": {
     "base_uri": "https://localhost:8080/",
     "height": 646
    },
    "id": "vo20J3djo2rA",
    "executionInfo": {
     "status": "ok",
     "timestamp": 1737866157812,
     "user_tz": 480,
     "elapsed": 530
    },
    "outputId": "d0910deb-dca3-440c-c9cb-c0ed37993068",
    "cellView": "form"
   },
   "outputs": [],
   "execution_count": null
  },
  {
   "cell_type": "markdown",
   "source": [
    "# Simulate prosthetic vision using next gen implants"
   ],
   "metadata": {
    "id": "NKWF5rCxABDd"
   }
  },
  {
   "cell_type": "markdown",
   "source": [
    "cpi stands for cycles per image"
   ],
   "metadata": {
    "id": "wVG0XoFZzqS9"
   }
  },
  {
   "cell_type": "code",
   "source": [
    "face_img = rgb_to_gray(image_path)\n",
    "face_tukey_win = create_tukey_window(cutoff_frequency, gray_img.shape[0])\n",
    "spatially_filtered_face_img = fft_filter(face_img, face_tukey_win)"
   ],
   "metadata": {
    "id": "XOPIy-RiApv7",
    "cellView": "form",
    "executionInfo": {
     "status": "ok",
     "timestamp": 1737866373596,
     "user_tz": 480,
     "elapsed": 126
    }
   },
   "outputs": [],
   "execution_count": null
  },
  {
   "cell_type": "code",
   "source": [
    "# define additional cutoff frequencies to test, representing potential new implants\n",
    "new_cutoff_freqs_to_test = [10, 20, 50]"
   ],
   "metadata": {
    "id": "hxtRgrOoiWA5",
    "cellView": "form",
    "executionInfo": {
     "status": "ok",
     "timestamp": 1737866373747,
     "user_tz": 480,
     "elapsed": 5
    }
   },
   "outputs": [],
   "execution_count": null
  },
  {
   "cell_type": "markdown",
   "source": [
    "Inverse gamma not applied"
   ],
   "metadata": {
    "id": "cZNDExhUW6ey"
   }
  },
  {
   "cell_type": "code",
   "metadata": {
    "id": "GuUTPmQIEZuf",
    "executionInfo": {
     "status": "ok",
     "timestamp": 1737866374262,
     "user_tz": 480,
     "elapsed": 519
    },
    "colab": {
     "base_uri": "https://localhost:8080/",
     "height": 356
    },
    "outputId": "8c2153fe-1cbf-44ba-e038-0ab6f9dbbf8e",
    "cellView": "form"
   },
   "source": [
    "i = 1\n",
    "plt.figure(figsize=(11,4))\n",
    "plt.suptitle('Inverse gamma not applied')\n",
    "for max_cycles_per_img in new_cutoff_freqs_to_test:\n",
    "  plt.subplot(1, len(new_cutoff_freqs_to_test), i)\n",
    "  quantized_face_img = quantize_image(face_img)\n",
    "  new_tukey_win = create_tukey_window(max_cycles_per_img, quantized_face_img.shape[0])\n",
    "  spatially_filtered = fft_filter(quantized_face_img, new_tukey_win)\n",
    "  output = gamma_transform(spatially_filtered, gamma_lst[-1])\n",
    "  plt.imshow(output, cmap='gray')\n",
    "  plt.title('cutoff frequency ' + str(max_cycles_per_img) + ' cpi')\n",
    "  plt.axis('off')\n",
    "  i += 1"
   ],
   "outputs": [],
   "execution_count": null
  },
  {
   "cell_type": "markdown",
   "source": [
    "Inverse gamma applied"
   ],
   "metadata": {
    "id": "lhDl8xHTjiSZ"
   }
  },
  {
   "cell_type": "code",
   "metadata": {
    "executionInfo": {
     "status": "ok",
     "timestamp": 1737866374758,
     "user_tz": 480,
     "elapsed": 499
    },
    "colab": {
     "base_uri": "https://localhost:8080/",
     "height": 356
    },
    "outputId": "558dbb5e-2261-4a40-88c8-204072e0678f",
    "id": "6lFikhTmjiSa",
    "cellView": "form"
   },
   "source": [
    "i = 1\n",
    "plt.figure(figsize=(11,4))\n",
    "plt.suptitle('Inverse gamma applied')\n",
    "for max_cycles_per_img in new_cutoff_freqs_to_test:\n",
    "  plt.subplot(1, len(new_cutoff_freqs_to_test), i)\n",
    "  gamma_inversed_face_img = gamma_transform(face_img, 1 / gamma_lst[-1])\n",
    "  quantized_inversed_gray_img = quantize_image(gamma_inversed_face_img)\n",
    "  new_tukey_win = create_tukey_window(max_cycles_per_img, quantized_inversed_gray_img.shape[0])\n",
    "  spatially_filtered_gamma_inversed = fft_filter(quantized_inversed_gray_img, new_tukey_win)\n",
    "  output = gamma_transform(spatially_filtered_gamma_inversed, gamma_lst[-1])\n",
    "  plt.imshow(output, cmap='gray')\n",
    "  plt.title('cutoff frequency ' + str(max_cycles_per_img) + ' cpi')\n",
    "  plt.axis('off')\n",
    "  i += 1"
   ],
   "outputs": [],
   "execution_count": null
  },
  {
   "cell_type": "markdown",
   "source": [
    "Inverse sigmoid not applied"
   ],
   "metadata": {
    "id": "uKArWeeOj4pQ"
   }
  },
  {
   "cell_type": "code",
   "metadata": {
    "executionInfo": {
     "status": "ok",
     "timestamp": 1737866375076,
     "user_tz": 480,
     "elapsed": 325
    },
    "colab": {
     "base_uri": "https://localhost:8080/",
     "height": 356
    },
    "outputId": "30ed3090-35b1-4a2e-916b-3f85df9a1022",
    "id": "IkQMFjFXj4pQ",
    "cellView": "form"
   },
   "source": [
    "i = 1\n",
    "plt.figure(figsize=(11,4))\n",
    "plt.suptitle('Inverse sigmoid not applied')\n",
    "for max_cycles_per_img in new_cutoff_freqs_to_test:\n",
    "  plt.subplot(1, len(new_cutoff_freqs_to_test), i)\n",
    "  quantized_face_img = quantize_image(face_img)\n",
    "  new_tukey_win = create_tukey_window(max_cycles_per_img, quantized_face_img.shape[0])\n",
    "  spatially_filtered = fft_filter(quantized_face_img, new_tukey_win)\n",
    "  output = sigmoid_transform(spatially_filtered, gain_lst[-1], sigmoid_x_shift)\n",
    "  plt.imshow(output, cmap='gray')\n",
    "  plt.title('cutoff frequency ' + str(max_cycles_per_img) + ' cpi')\n",
    "  plt.axis('off')\n",
    "  i += 1"
   ],
   "outputs": [],
   "execution_count": null
  },
  {
   "cell_type": "markdown",
   "source": [
    "Inverse sigmoid applied"
   ],
   "metadata": {
    "id": "6z50lHHlj4pR"
   }
  },
  {
   "cell_type": "code",
   "metadata": {
    "executionInfo": {
     "status": "ok",
     "timestamp": 1737866375576,
     "user_tz": 480,
     "elapsed": 509
    },
    "colab": {
     "base_uri": "https://localhost:8080/",
     "height": 356
    },
    "outputId": "0eda08ce-c137-4201-e5f6-98308bb60daa",
    "id": "FvnKIwOZj4pR",
    "cellView": "form"
   },
   "source": [
    "i = 1\n",
    "plt.figure(figsize=(11,4))\n",
    "plt.suptitle('Inverse sigmoid applied')\n",
    "for max_cycles_per_img in new_cutoff_freqs_to_test:\n",
    "  plt.subplot(1, len(new_cutoff_freqs_to_test), i)\n",
    "  sigmoid_inversed_face_img = inverse_sigmoid(face_img, gain_lst[-1], sigmoid_x_shift)\n",
    "  quantized_inversed_face_img = quantize_image(np.clip(sigmoid_inversed_face_img, 0, 1))\n",
    "  new_tukey_win = create_tukey_window(max_cycles_per_img, quantized_inversed_face_img.shape[0])\n",
    "  spatially_filtered_sigmoid_inversed = fft_filter(quantized_inversed_face_img, new_tukey_win)\n",
    "  output = sigmoid_transform(spatially_filtered_sigmoid_inversed, gain_lst[-1], sigmoid_x_shift)\n",
    "  plt.imshow(output, cmap='gray')\n",
    "  plt.title('cutoff frequency ' + str(max_cycles_per_img) + ' cpi')\n",
    "  plt.axis('off')\n",
    "  i += 1"
   ],
   "outputs": [],
   "execution_count": null
  },
  {
   "cell_type": "code",
   "source": [],
   "metadata": {
    "collapsed": false
   },
   "outputs": [],
   "execution_count": null
  },
  {
   "cell_type": "code",
   "source": [],
   "metadata": {
    "collapsed": false
   },
   "outputs": [],
   "execution_count": null
  }
 ]
}
